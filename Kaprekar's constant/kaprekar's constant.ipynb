{
 "cells": [
  {
   "cell_type": "code",
   "execution_count": 30,
   "metadata": {},
   "outputs": [
    {
     "name": "stdout",
     "output_type": "stream",
     "text": [
      "1000 gives Kaprekar's constant after 5 iterations\n"
     ]
    }
   ],
   "source": [
    "#kaprekar's constant\n",
    "\n",
    "def kaprekarIteration(num):\n",
    "    numStr = str(num).zfill(4)  \n",
    "    ascending = int(''.join(sorted(numStr)))\n",
    "    descending = int(''.join(sorted(numStr, reverse=True)))\n",
    "    \n",
    "    return descending - ascending\n",
    "\n",
    "def findingKaprekarIterations(initialNumber):\n",
    "    currentNumber = initialNumber\n",
    "    iterations = 0\n",
    "\n",
    "    while currentNumber != 6174:\n",
    "        currentNumber = kaprekarIteration(currentNumber)\n",
    "        iterations += 1\n",
    "\n",
    "    return iterations\n",
    "\n",
    "    \n",
    "def isEligible(number):\n",
    "\n",
    "    if not(1000 <= number <= 9999):\n",
    "        return False\n",
    "\n",
    "    digits = set(str(number))\n",
    "    if len(digits) < 2:\n",
    "        return False\n",
    "\n",
    "    return True\n",
    "\n",
    "\n",
    "def checkKaprekar(number):\n",
    "    if isEligible(number)==True:\n",
    "        iterations = findingKaprekarIterations(number)\n",
    "        statement= str(number)+ \" gives Kaprekar's constant after \"+ str(iterations) +\" iterations\"\n",
    "        \n",
    "        \n",
    "    else:\n",
    "        statement=\"Invalid number\" \n",
    "        \n",
    "    return statement\n",
    "    \n",
    "\n",
    "\n",
    "\n",
    "\n",
    "\n",
    "\n",
    "number = 1000\n",
    "\n",
    "result=checkKaprekar(number)\n",
    "\n",
    "\n",
    "print(result)\n"
   ]
  },
  {
   "cell_type": "code",
   "execution_count": null,
   "metadata": {},
   "outputs": [],
   "source": []
  }
 ],
 "metadata": {
  "kernelspec": {
   "display_name": "Python 3",
   "language": "python",
   "name": "python3"
  },
  "language_info": {
   "codemirror_mode": {
    "name": "ipython",
    "version": 3
   },
   "file_extension": ".py",
   "mimetype": "text/x-python",
   "name": "python",
   "nbconvert_exporter": "python",
   "pygments_lexer": "ipython3",
   "version": "3.12.0"
  }
 },
 "nbformat": 4,
 "nbformat_minor": 2
}
